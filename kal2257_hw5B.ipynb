{
  "cells": [
    {
      "cell_type": "code",
      "execution_count": 1,
      "metadata": {
        "colab": {
          "base_uri": "https://localhost:8080/"
        },
        "id": "080d50fc",
        "outputId": "f24bf74c-5fe6-480f-c89b-12be2a68689b"
      },
      "outputs": [
        {
          "output_type": "stream",
          "name": "stdout",
          "text": [
            "Collecting portalocker\n",
            "  Downloading portalocker-2.8.2-py3-none-any.whl (17 kB)\n",
            "Installing collected packages: portalocker\n",
            "Successfully installed portalocker-2.8.2\n",
            "Collecting torchmetrics\n",
            "  Downloading torchmetrics-1.2.0-py3-none-any.whl (805 kB)\n",
            "\u001b[2K     \u001b[90m━━━━━━━━━━━━━━━━━━━━━━━━━━━━━━━━━━━━━━━━\u001b[0m \u001b[32m805.2/805.2 kB\u001b[0m \u001b[31m4.7 MB/s\u001b[0m eta \u001b[36m0:00:00\u001b[0m\n",
            "\u001b[?25hRequirement already satisfied: numpy>1.20.0 in /usr/local/lib/python3.10/dist-packages (from torchmetrics) (1.23.5)\n",
            "Requirement already satisfied: torch>=1.8.1 in /usr/local/lib/python3.10/dist-packages (from torchmetrics) (2.1.0+cu118)\n",
            "Collecting lightning-utilities>=0.8.0 (from torchmetrics)\n",
            "  Downloading lightning_utilities-0.10.0-py3-none-any.whl (24 kB)\n",
            "Requirement already satisfied: packaging>=17.1 in /usr/local/lib/python3.10/dist-packages (from lightning-utilities>=0.8.0->torchmetrics) (23.2)\n",
            "Requirement already satisfied: setuptools in /usr/local/lib/python3.10/dist-packages (from lightning-utilities>=0.8.0->torchmetrics) (67.7.2)\n",
            "Requirement already satisfied: typing-extensions in /usr/local/lib/python3.10/dist-packages (from lightning-utilities>=0.8.0->torchmetrics) (4.5.0)\n",
            "Requirement already satisfied: filelock in /usr/local/lib/python3.10/dist-packages (from torch>=1.8.1->torchmetrics) (3.13.1)\n",
            "Requirement already satisfied: sympy in /usr/local/lib/python3.10/dist-packages (from torch>=1.8.1->torchmetrics) (1.12)\n",
            "Requirement already satisfied: networkx in /usr/local/lib/python3.10/dist-packages (from torch>=1.8.1->torchmetrics) (3.2.1)\n",
            "Requirement already satisfied: jinja2 in /usr/local/lib/python3.10/dist-packages (from torch>=1.8.1->torchmetrics) (3.1.2)\n",
            "Requirement already satisfied: fsspec in /usr/local/lib/python3.10/dist-packages (from torch>=1.8.1->torchmetrics) (2023.6.0)\n",
            "Requirement already satisfied: triton==2.1.0 in /usr/local/lib/python3.10/dist-packages (from torch>=1.8.1->torchmetrics) (2.1.0)\n",
            "Requirement already satisfied: MarkupSafe>=2.0 in /usr/local/lib/python3.10/dist-packages (from jinja2->torch>=1.8.1->torchmetrics) (2.1.3)\n",
            "Requirement already satisfied: mpmath>=0.19 in /usr/local/lib/python3.10/dist-packages (from sympy->torch>=1.8.1->torchmetrics) (1.3.0)\n",
            "Installing collected packages: lightning-utilities, torchmetrics\n",
            "Successfully installed lightning-utilities-0.10.0 torchmetrics-1.2.0\n"
          ]
        }
      ],
      "source": [
        "!pip install portalocker\n",
        "!pip install torchmetrics"
      ],
      "id": "080d50fc"
    },
    {
      "cell_type": "markdown",
      "metadata": {
        "id": "xjr4e43DyTz-"
      },
      "source": [
        "Fill in the code below with the appropriate logic to make this notebook work. You will pull the GLOVE embeddings and then create a MLP text classifier for the AG_NEWS dataset. There are many uttilities used here. You need to create a vocabulary, allow the model to update the GLOVE embeddings with gradients or not. Additionally, you might not use the GLOVE embeddings. GLOVE is a pretrained set of embeddings much like Word2Vec. Each word has a unique embedding but the objective function is different for GLOVE."
      ],
      "id": "xjr4e43DyTz-"
    },
    {
      "cell_type": "code",
      "execution_count": 2,
      "metadata": {
        "id": "B9XxyEQVWrO6"
      },
      "outputs": [],
      "source": [
        "import argparse\n",
        "import logging\n",
        "import time\n",
        "\n",
        "import torch\n",
        "from torch.utils.data import DataLoader\n",
        "from torch.utils.data.dataset import random_split\n",
        "from torchtext.data.functional import to_map_style_dataset\n",
        "from torchtext.data.utils import get_tokenizer, ngrams_iterator\n",
        "from torchtext.datasets import DATASETS\n",
        "from torchtext.utils import download_from_url\n",
        "from torchtext.vocab import build_vocab_from_iterator\n",
        "import torch.nn as nn\n",
        "from torch.nn.utils.rnn import pad_sequence\n",
        "import torch.nn.functional as F\n",
        "from torchtext.vocab import GloVe\n",
        "from tqdm import tqdm\n",
        "\n",
        "torch.autograd.set_detect_anomaly(True)\n",
        "\n",
        "FILL = '_FILL_'"
      ],
      "id": "B9XxyEQVWrO6"
    },
    {
      "cell_type": "markdown",
      "metadata": {
        "id": "66eb271d"
      },
      "source": [
        "### Information\n",
        "- torchtext repo: https://github.com/pytorch/text/tree/main/torchtext\n",
        "- torchtext documentation: https://pytorch.org/text/stable/index.html"
      ],
      "id": "66eb271d"
    },
    {
      "cell_type": "code",
      "execution_count": null,
      "metadata": {
        "id": "8c949153"
      },
      "outputs": [],
      "source": [],
      "id": "8c949153"
    },
    {
      "cell_type": "markdown",
      "metadata": {
        "id": "12d93d22"
      },
      "source": [
        "### Constants"
      ],
      "id": "12d93d22"
    },
    {
      "cell_type": "code",
      "execution_count": 3,
      "metadata": {
        "id": "329c056d"
      },
      "outputs": [],
      "source": [
        "DATASET = \"AG_NEWS\"\n",
        "DATA_DIR = \".data\"\n",
        "DEVICE = \"cuda\" if torch.cuda.is_available() else \"cpu\"\n",
        "# Set to 300 since GLOVE embeddings are dimension 300\n",
        "EMBED_DIM = 300\n",
        "LR = 0.1\n",
        "BATCH_SIZE = 64\n",
        "NUM_EPOCHS = 5\n",
        "PADDING_VALUE = 0\n",
        "PADDING_IDX = PADDING_VALUE"
      ],
      "id": "329c056d"
    },
    {
      "cell_type": "code",
      "execution_count": 4,
      "metadata": {
        "id": "ffada8d0",
        "colab": {
          "base_uri": "https://localhost:8080/",
          "height": 35
        },
        "outputId": "f33ac86a-8907-42b0-fee3-e190eb449b9c"
      },
      "outputs": [
        {
          "output_type": "execute_result",
          "data": {
            "text/plain": [
              "'cuda'"
            ],
            "application/vnd.google.colaboratory.intrinsic+json": {
              "type": "string"
            }
          },
          "metadata": {},
          "execution_count": 4
        }
      ],
      "source": [
        "DEVICE"
      ],
      "id": "ffada8d0"
    },
    {
      "cell_type": "markdown",
      "metadata": {
        "id": "1a61aede"
      },
      "source": [
        "### Get the tokenizer\n",
        "- Use the WordLevel tokenizer.\n"
      ],
      "id": "1a61aede"
    },
    {
      "cell_type": "code",
      "execution_count": 5,
      "metadata": {
        "id": "93e3b7cb"
      },
      "outputs": [],
      "source": [
        "# Get the basic english tokenizer\n",
        "basic_english_tokenizer =get_tokenizer(\"basic_english\")"
      ],
      "id": "93e3b7cb"
    },
    {
      "cell_type": "code",
      "execution_count": 6,
      "metadata": {
        "colab": {
          "base_uri": "https://localhost:8080/"
        },
        "id": "aa4b78e4",
        "outputId": "fa88e8c3-85d9-4279-9f41-746e642ad77c"
      },
      "outputs": [
        {
          "output_type": "execute_result",
          "data": {
            "text/plain": [
              "['this', 'is', 'some', 'text', '.', '.', '.']"
            ]
          },
          "metadata": {},
          "execution_count": 6
        }
      ],
      "source": [
        "basic_english_tokenizer(\"This is some text ...\")"
      ],
      "id": "aa4b78e4"
    },
    {
      "cell_type": "code",
      "execution_count": 7,
      "metadata": {
        "id": "505cf5ec"
      },
      "outputs": [],
      "source": [
        "# Needed later\n",
        "TOKENIZER = basic_english_tokenizer"
      ],
      "id": "505cf5ec"
    },
    {
      "cell_type": "markdown",
      "metadata": {
        "id": "64096cd8"
      },
      "source": [
        "### Get the data and get the vocabulary"
      ],
      "id": "64096cd8"
    },
    {
      "cell_type": "code",
      "execution_count": 8,
      "metadata": {
        "id": "ce4a0578"
      },
      "outputs": [],
      "source": [
        "# This takes a (x, y) pair from data_iter and returns tokenized list of words\n",
        "# For every sentence, it should yield a tokenized set of string\n",
        "# \"a b c d\" -> [\"a\", \"b\", \"c\", \"d\"]\n",
        "# Use TOKENIZER here\n",
        "def yield_tokens(data_iter):\n",
        "  tokens =[]\n",
        "  for _, text in data_iter:\n",
        "        tokens=tokens +[TOKENIZER(text)]\n",
        "  return tokens"
      ],
      "id": "ce4a0578"
    },
    {
      "cell_type": "code",
      "execution_count": 9,
      "metadata": {
        "id": "f48f23ab"
      },
      "outputs": [],
      "source": [
        "train_iter = DATASETS[DATASET](root=DATA_DIR, split=\"train\")\n",
        "# Build the vocabulary from the above iterator\n",
        "# Use special symbols '<pad>' and '<unk>'\n",
        "VOCAB = build_vocab_from_iterator(\n",
        "    yield_tokens(train_iter),\n",
        "    specials=('<pad>', '<unk>'),\n",
        "    min_freq = 15\n",
        ")\n",
        "# Make the default index the same as that of the '<unk>'\n",
        "rare=VOCAB['<unk>']\n",
        "VOCAB.set_default_index(rare)"
      ],
      "id": "f48f23ab"
    },
    {
      "cell_type": "code",
      "execution_count": 10,
      "metadata": {
        "id": "552e7295",
        "colab": {
          "base_uri": "https://localhost:8080/"
        },
        "outputId": "f2d8e4d7-4019-4c37-899e-2f0455317040"
      },
      "outputs": [
        {
          "output_type": "stream",
          "name": "stdout",
          "text": [
            "16338\n"
          ]
        }
      ],
      "source": [
        "print(len(VOCAB))"
      ],
      "id": "552e7295"
    },
    {
      "cell_type": "markdown",
      "metadata": {
        "id": "31ce9367"
      },
      "source": [
        "### Get GLOVE embeddings\n",
        "GLOVE is a pretrained set of word vectors that comes with torchtext; it is roughly 2G of data."
      ],
      "id": "31ce9367"
    },
    {
      "cell_type": "code",
      "execution_count": 11,
      "metadata": {
        "colab": {
          "base_uri": "https://localhost:8080/"
        },
        "id": "a43f0226",
        "outputId": "e69a886a-30f4-4cdf-efdb-6af583e08f7b"
      },
      "outputs": [
        {
          "output_type": "stream",
          "name": "stderr",
          "text": [
            ".vector_cache/glove.840B.300d.zip: 2.18GB [06:54, 5.25MB/s]                            \n",
            "100%|█████████▉| 2196016/2196017 [05:59<00:00, 6106.42it/s]\n"
          ]
        }
      ],
      "source": [
        "# This will take a bit of time\n",
        "GLOVE = GloVe()"
      ],
      "id": "a43f0226"
    },
    {
      "cell_type": "code",
      "execution_count": 12,
      "metadata": {
        "colab": {
          "base_uri": "https://localhost:8080/"
        },
        "id": "6302f433",
        "outputId": "eb2245ed-f359-4d9a-edfa-b74f66a660b8"
      },
      "outputs": [
        {
          "output_type": "execute_result",
          "data": {
            "text/plain": [
              "(2196017, torch.Size([2196017, 300]))"
            ]
          },
          "metadata": {},
          "execution_count": 12
        }
      ],
      "source": [
        "# How many word vectors are there and what is the shape of GLOVE.vectors?\n",
        "# What is the dimension of each vector?\n",
        "len(GLOVE), GLOVE.vectors.shape"
      ],
      "id": "6302f433"
    },
    {
      "cell_type": "markdown",
      "metadata": {
        "id": "200b05fc"
      },
      "source": [
        "### Helper functions"
      ],
      "id": "200b05fc"
    },
    {
      "cell_type": "code",
      "execution_count": 13,
      "metadata": {
        "id": "16ca1ef5"
      },
      "outputs": [],
      "source": [
        "# For text, return the tokens for each word\n",
        "# This might work like \"The man walks\" -> [\"the\", \"man\", \"walks\"] -> [17, 123, 5]\n",
        "def text_pipeline(text):\n",
        "  text_ =TOKENIZER(text)\n",
        "  itos=VOCAB(text_)\n",
        "  return itos\n",
        "\n",
        "# Return the label as an integer between 0 and num_classes - 1 inclusive\n",
        "def label_pipeline(label):\n",
        "    label=label -1\n",
        "    return int(label)"
      ],
      "id": "16ca1ef5"
    },
    {
      "cell_type": "markdown",
      "metadata": {
        "id": "67ef6734"
      },
      "source": [
        "Nice link on collate_fn and DataLoader in PyTorch: https://python.plainenglish.io/understanding-collate-fn-in-pytorch-f9d1742647d3"
      ],
      "id": "67ef6734"
    },
    {
      "cell_type": "code",
      "execution_count": 14,
      "metadata": {
        "id": "ff479986"
      },
      "outputs": [],
      "source": [
        "# What does this do?\n",
        "# For each batch, return a tensor of labels and a tensor of ints representing the words in associated sentences\n",
        "def collate_batch(batch):\n",
        "    label_list, text_list = [], []\n",
        "    # For each label and text in a batch, transform to a tensor of labels\n",
        "    # And a tensor of tokens for each word\n",
        "    # You need text_pipeline here and\n",
        "    for (_label, _text) in batch:\n",
        "        # Get the label from {1, 2, 3, 4} to {0, 1, 2, 3}\n",
        "        label_list.append(label_pipeline(_label))\n",
        "\n",
        "        # Return a list of ints\n",
        "        # This basically returns a tensor of the token ids and then puts them into text_list\n",
        "        processed_text = torch.tensor(text_pipeline(_text), dtype=torch.int64)\n",
        "        text_list.append(processed_text.clone().detach())\n",
        "\n",
        "    # Make a tensor from the label_list\n",
        "    label_tensor = torch.tensor(label_list, dtype=torch.int64)\n",
        "    # Pad the sequence list and return a tensor\n",
        "    text_tensor = pad_sequence(text_list, batch_first=True)\n",
        "\n",
        "    return label_tensor.to(DEVICE), text_tensor.to(DEVICE)"
      ],
      "id": "ff479986"
    },
    {
      "cell_type": "markdown",
      "metadata": {
        "id": "c7fcf425"
      },
      "source": [
        "### Get the data"
      ],
      "id": "c7fcf425"
    },
    {
      "cell_type": "code",
      "execution_count": 15,
      "metadata": {
        "id": "e617ddce",
        "colab": {
          "base_uri": "https://localhost:8080/"
        },
        "outputId": "cafedcd3-d3aa-4ca1-cd07-08af17fb363a"
      },
      "outputs": [
        {
          "output_type": "stream",
          "name": "stdout",
          "text": [
            "The number of classes is 4 ...\n"
          ]
        }
      ],
      "source": [
        "# Pull the train_iter as above\n",
        "#train_iter = to_map_style_dataset(train_iter)\n",
        "train_iter = DataLoader(train_iter, batch_size=BATCH_SIZE, shuffle=True, collate_fn=collate_batch)\n",
        "# Get the number of classes\n",
        "# Loop over the train_iter and get the total integer number\n",
        "num_class = len(set([label for (label, _) in train_iter])) # <-- this doesn't decompose the list right\n",
        "num_class = 4\n",
        "# What are the classes?\n",
        "print(f\"The number of classes is {num_class} ...\")"
      ],
      "id": "e617ddce"
    },
    {
      "cell_type": "code",
      "execution_count": 16,
      "metadata": {
        "id": "7770ac24",
        "colab": {
          "base_uri": "https://localhost:8080/"
        },
        "outputId": "47023df2-0f78-49b4-bca5-103bfbfabf76"
      },
      "outputs": [
        {
          "output_type": "stream",
          "name": "stdout",
          "text": [
            "torch.Size([64]) torch.Size([64, 77])\n",
            "tensor([[ 5792,  2495,  1977,  ...,     0,     0,     0],\n",
            "        [  287, 10383,    71,  ...,     0,     0,     0],\n",
            "        [  371,    77,  3335,  ...,     0,     0,     0],\n",
            "        ...,\n",
            "        [    1,     5,   383,  ...,     0,     0,     0],\n",
            "        [   89,     4,   176,  ...,     0,     0,     0],\n",
            "        [   13,     3,    51,  ...,     0,     0,     0]], device='cuda:0')\n"
          ]
        }
      ],
      "source": [
        "for yb, xb in train_iter:\n",
        "    print(yb.shape, xb.shape)\n",
        "    print(xb)\n",
        "    break"
      ],
      "id": "7770ac24"
    },
    {
      "cell_type": "markdown",
      "metadata": {
        "id": "5aa8a40d"
      },
      "source": [
        "### Set up the model"
      ],
      "id": "5aa8a40d"
    },
    {
      "cell_type": "markdown",
      "metadata": {
        "id": "8abf2ede"
      },
      "source": [
        "The goal of this problem is to construct a MLP neural classifier for text classification."
      ],
      "id": "8abf2ede"
    },
    {
      "cell_type": "code",
      "execution_count": 23,
      "metadata": {
        "id": "dc51c359"
      },
      "outputs": [],
      "source": [
        "# Fill in the comments below\n",
        "class MLPTextClassificationModel(nn.Module):\n",
        "    def __init__(\n",
        "        self,\n",
        "        vocab_size,\n",
        "        num_class,\n",
        "        embed_dim = 300,\n",
        "        # If this is true, we will use the pretrained GLOVE embeddings\n",
        "        use_pretrained = True,\n",
        "        # If this is true, we will allow gradient updates for the GLOVE embeddings\n",
        "        # If  this is false, the GLOVE embeddings are static\n",
        "        fine_tune_embeddings = True\n",
        "    ):\n",
        "\n",
        "        super(MLPTextClassificationModel, self).__init__()\n",
        "\n",
        "        # Set to a nn.Embedding layer with vocab_size words and embed_dim dimension per word\n",
        "        # Set the padding index to PADDING_IDX\n",
        "        # This layer is like a linear layer but without the bias\n",
        "        # Essentially, it is a Matrix sich that A * [2, 3] pulls out two vectors\n",
        "        # The vectors we get are for the words with tokens 2 and 3 specifically\n",
        "        self.embedding = nn.Embedding(vocab_size, embed_dim,padding_idx=PADDING_IDX)\n",
        "\n",
        "        if use_pretrained:\n",
        "          # If this is true, set the requires_grad to False and load the GLOVE embeddings per token\n",
        "          self.embedding.weight.requires_grad = False\n",
        "          for i in range(vocab_size):\n",
        "            # Look up the token id for the token i\n",
        "            token = VOCAB.lookup_token(i)\n",
        "\n",
        "            # Set the ith row of the embeddings weight matrix to the GLOVE vector for this token\n",
        "            self.embedding.weight[i, :] = GLOVE[token]\n",
        "\n",
        "          # Set the requires_grad field to True\n",
        "          # Had we not made it False before, we might not be able to change the Embedding layer as above\n",
        "          # See what happens if interested\n",
        "          self.embedding.weight.requires_grad = True\n",
        "\n",
        "        # If this is off, make the embedding weights be constant and without gradients\n",
        "        if not fine_tune_embeddings:\n",
        "          # Set the requires_grad field to False\n",
        "          self.embedding.weight.requires_grad = False\n",
        "\n",
        "        # Make a linear layer going from embed_dim to dimension 100\n",
        "        self.linear1 = nn.Linear(embed_dim, 100)\n",
        "        # Make a fc layer going from 100 to num_class\n",
        "        self.fc = nn.Linear(100, num_class)\n",
        "\n",
        "    # B = batch_size, L = sequence length, D = vector dimension\n",
        "    def forward(self, text):\n",
        "        # B X L X D\n",
        "        embedded = self.embedding(text)\n",
        "\n",
        "        # B X D - Make embedded be the average of word embedding across a sentence\n",
        "        embedded = embedded.mean(axis=1)\n",
        "\n",
        "        # Pass through ReLU\n",
        "        embedded = torch.nn.functional.relu(embedded)\n",
        "\n",
        "        # B X 100 Pass through linear1\n",
        "        embedded =  self.linear1(embedded)\n",
        "\n",
        "        # Pass through ReLU\n",
        "        embedded = torch.nn.functional.relu(embedded)\n",
        "\n",
        "        # B X num_classes Pass through fc to get\n",
        "        embedded = self.fc(embedded)\n",
        "\n",
        "        # B X num_classes Take the LogSoftmax and return this\n",
        "        out =torch.nn.LogSoftmax(dim=1)(embedded)\n",
        "\n",
        "        return out"
      ],
      "id": "dc51c359"
    },
    {
      "cell_type": "markdown",
      "metadata": {
        "id": "3b3c6ed5"
      },
      "source": [
        "### Set up the model"
      ],
      "id": "3b3c6ed5"
    },
    {
      "cell_type": "code",
      "execution_count": 24,
      "metadata": {
        "id": "cef585f4"
      },
      "outputs": [],
      "source": [
        "# Either use the GLOVE embeddings to initialize the model or don't\n",
        "USE_PRETRAINED = True\n",
        "# If this is off, your model should do worse as the GLOVE embeddings will not be modified by gradient updates\n",
        "FINE_TUNE_EMBEDDINGS = True\n",
        "\n",
        "# Define the model such that it takes in the log softmax\n",
        "# Hint: search the PyTorch webpage\n",
        "criterion = nn.NLLLoss()\n",
        "\n",
        "# Instantiate the model\n",
        "model = MLPTextClassificationModel(\n",
        "    len(VOCAB),\n",
        "    num_class,\n",
        "    EMBED_DIM,\n",
        "    use_pretrained=USE_PRETRAINED,\n",
        "    fine_tune_embeddings=FINE_TUNE_EMBEDDINGS\n",
        ").to(DEVICE)\n",
        "\n",
        "# Define an SGD optimizer acting on the parameters of the model\n",
        "optimizer = torch.optim.SGD(model.parameters(), lr=LR)\n",
        "\n",
        "# Define scheduler to be a learning rate scheduler of type StepLR with gamma = 0.1\n",
        "# Learning rate schedulers lower the learning rate for you via some rule\n",
        "# They can help ensure you don't blow up the optimization as you go\n",
        "scheduler = torch.optim.lr_scheduler.StepLR(optimizer, step_size=1, gamma=0.1)"
      ],
      "id": "cef585f4"
    },
    {
      "cell_type": "markdown",
      "metadata": {
        "id": "26266d8a"
      },
      "source": [
        "### Set up the data"
      ],
      "id": "26266d8a"
    },
    {
      "cell_type": "code",
      "execution_count": 19,
      "metadata": {
        "id": "9c0aebb5"
      },
      "outputs": [],
      "source": [
        "# Get the iterators for train and test data\n",
        "train_iter, test_iter = DATASETS[DATASET](root=DATA_DIR, split=\"train\"),DATASETS[DATASET](root=DATA_DIR, split=\"test\")\n",
        "train_dataset = to_map_style_dataset(train_iter)\n",
        "test_dataset = to_map_style_dataset(test_iter)\n",
        "\n",
        "num_train = int(len(train_dataset) * 0.95)\n",
        "split_train_, split_valid_ = random_split(train_dataset, [num_train, len(train_dataset) - num_train])\n",
        "\n",
        "# Define data loaders on the train, validation, and test data\n",
        "# Set collate_fn as the collate_batch above\n",
        "# Each batch of raw data is sent through collate_batch to get the data we need (the tensors)\n",
        "train_dataloader = DataLoader(split_train_, batch_size=BATCH_SIZE, shuffle=True, collate_fn=collate_batch)\n",
        "valid_dataloader = DataLoader(split_valid_, batch_size=BATCH_SIZE, shuffle=True, collate_fn=collate_batch)\n",
        "test_dataloader = DataLoader(test_dataset, batch_size=BATCH_SIZE, shuffle=True, collate_fn=collate_batch)"
      ],
      "id": "9c0aebb5"
    },
    {
      "cell_type": "markdown",
      "metadata": {
        "id": "86476e2a"
      },
      "source": [
        "### Train the model"
      ],
      "id": "86476e2a"
    },
    {
      "cell_type": "code",
      "execution_count": 25,
      "metadata": {
        "id": "24950481"
      },
      "outputs": [],
      "source": [
        "def train(dataloader, model, optimizer, criterion, epoch):\n",
        "    # Put model in train mode\n",
        "    model.train()\n",
        "    total_acc, total_count = 0, 0\n",
        "    log_interval = 100\n",
        "\n",
        "    for idx, (label, text) in enumerate(dataloader):\n",
        "        # Set the gradients to zero\n",
        "        optimizer.zero_grad()\n",
        "\n",
        "        # Get the LogSoftmax predictions\n",
        "        y_preds = model(text)\n",
        "\n",
        "        # Get the loss\n",
        "        loss =  criterion(y_preds, label)\n",
        "\n",
        "        # Do back propagation\n",
        "        loss.backward()\n",
        "\n",
        "        # Clip the gradients to 0.1 so they don't get too large\n",
        "        # Look up clip_grad_norm_\n",
        "        torch.nn.utils.clip_grad_norm_(model.parameters(), 0.1)\n",
        "\n",
        "        # Do an optimization step\n",
        "        optimizer.step()\n",
        "\n",
        "        # Get the total accuracy\n",
        "        n=label.size(0)\n",
        "        _, prediction = torch.max(y_preds.data, 1)\n",
        "        total_acc += (label==prediction).sum().item()\n",
        "        total_count += n\n",
        "        if idx % log_interval == 0 and idx > 0:\n",
        "            print(\n",
        "                \"| epoch {:3d} | {:5d}/{:5d} batches \"\n",
        "                \"| accuracy {:8.3f}\".format(epoch, idx, len(dataloader), total_acc / total_count)\n",
        "            )\n",
        "            total_acc, total_count = 0, 0"
      ],
      "id": "24950481"
    },
    {
      "cell_type": "code",
      "execution_count": 21,
      "metadata": {
        "id": "39a702be"
      },
      "outputs": [],
      "source": [
        "def evaluate(dataloader, model):\n",
        "    model.eval()\n",
        "    total_acc, total_count = 0, 0\n",
        "\n",
        "    with torch.no_grad():\n",
        "      for idx, (label, text) in enumerate(dataloader):\n",
        "        # Get the predicted labels\n",
        "        predited_label = model(text)\n",
        "        _, predited_label = torch.max(predited_label.data, 1)\n",
        "        # Get the accuracy\n",
        "        n = label.size(0)\n",
        "        total_acc += (label==predited_label).sum().item()\n",
        "        # Update the total count\n",
        "        total_count += n\n",
        "    # Return the accuracy\n",
        "    return total_acc / total_count"
      ],
      "id": "39a702be"
    },
    {
      "cell_type": "code",
      "source": [
        "for epoch in range(1, NUM_EPOCHS + 1):\n",
        "    epoch_start_time = time.time()\n",
        "    train(train_dataloader, model, optimizer, criterion, epoch)\n",
        "    accu_val = evaluate(valid_dataloader, model)\n",
        "    scheduler.step()\n",
        "    print(\"-\" * 59)\n",
        "    print(\n",
        "        \"| end of epoch {:3d} | time: {:5.2f}s | \"\n",
        "        \"valid accuracy {:8.3f} \".format(epoch, time.time() - epoch_start_time, accu_val)\n",
        "    )\n",
        "    print(\"-\" * 59)\n",
        "\n",
        "print(\"Checking the results of test dataset.\")\n",
        "accu_test = evaluate(test_dataloader, model)\n",
        "print(\"test accuracy {:8.3f}\".format(accu_test))"
      ],
      "metadata": {
        "colab": {
          "base_uri": "https://localhost:8080/"
        },
        "id": "amXwpRQyd0F9",
        "outputId": "c77be0dc-1707-439a-fb98-df4477a173da"
      },
      "id": "amXwpRQyd0F9",
      "execution_count": 22,
      "outputs": [
        {
          "output_type": "stream",
          "name": "stdout",
          "text": [
            "| epoch   1 |   100/ 1782 batches | accuracy    0.508\n",
            "| epoch   1 |   200/ 1782 batches | accuracy    0.656\n",
            "| epoch   1 |   300/ 1782 batches | accuracy    0.663\n",
            "| epoch   1 |   400/ 1782 batches | accuracy    0.667\n",
            "| epoch   1 |   500/ 1782 batches | accuracy    0.672\n",
            "| epoch   1 |   600/ 1782 batches | accuracy    0.691\n",
            "| epoch   1 |   700/ 1782 batches | accuracy    0.720\n",
            "| epoch   1 |   800/ 1782 batches | accuracy    0.751\n",
            "| epoch   1 |   900/ 1782 batches | accuracy    0.768\n",
            "| epoch   1 |  1000/ 1782 batches | accuracy    0.776\n",
            "| epoch   1 |  1100/ 1782 batches | accuracy    0.803\n",
            "| epoch   1 |  1200/ 1782 batches | accuracy    0.805\n",
            "| epoch   1 |  1300/ 1782 batches | accuracy    0.810\n",
            "| epoch   1 |  1400/ 1782 batches | accuracy    0.813\n",
            "| epoch   1 |  1500/ 1782 batches | accuracy    0.825\n",
            "| epoch   1 |  1600/ 1782 batches | accuracy    0.821\n",
            "| epoch   1 |  1700/ 1782 batches | accuracy    0.838\n",
            "-----------------------------------------------------------\n",
            "| end of epoch   1 | time: 23.25s | valid accuracy    0.834 \n",
            "-----------------------------------------------------------\n",
            "| epoch   2 |   100/ 1782 batches | accuracy    0.836\n",
            "| epoch   2 |   200/ 1782 batches | accuracy    0.840\n",
            "| epoch   2 |   300/ 1782 batches | accuracy    0.834\n",
            "| epoch   2 |   400/ 1782 batches | accuracy    0.829\n",
            "| epoch   2 |   500/ 1782 batches | accuracy    0.831\n",
            "| epoch   2 |   600/ 1782 batches | accuracy    0.843\n",
            "| epoch   2 |   700/ 1782 batches | accuracy    0.832\n",
            "| epoch   2 |   800/ 1782 batches | accuracy    0.833\n",
            "| epoch   2 |   900/ 1782 batches | accuracy    0.844\n",
            "| epoch   2 |  1000/ 1782 batches | accuracy    0.840\n",
            "| epoch   2 |  1100/ 1782 batches | accuracy    0.835\n",
            "| epoch   2 |  1200/ 1782 batches | accuracy    0.842\n",
            "| epoch   2 |  1300/ 1782 batches | accuracy    0.835\n",
            "| epoch   2 |  1400/ 1782 batches | accuracy    0.843\n",
            "| epoch   2 |  1500/ 1782 batches | accuracy    0.848\n",
            "| epoch   2 |  1600/ 1782 batches | accuracy    0.835\n",
            "| epoch   2 |  1700/ 1782 batches | accuracy    0.835\n",
            "-----------------------------------------------------------\n",
            "| end of epoch   2 | time: 20.06s | valid accuracy    0.844 \n",
            "-----------------------------------------------------------\n",
            "| epoch   3 |   100/ 1782 batches | accuracy    0.837\n",
            "| epoch   3 |   200/ 1782 batches | accuracy    0.838\n",
            "| epoch   3 |   300/ 1782 batches | accuracy    0.846\n",
            "| epoch   3 |   400/ 1782 batches | accuracy    0.835\n",
            "| epoch   3 |   500/ 1782 batches | accuracy    0.840\n",
            "| epoch   3 |   600/ 1782 batches | accuracy    0.830\n",
            "| epoch   3 |   700/ 1782 batches | accuracy    0.831\n",
            "| epoch   3 |   800/ 1782 batches | accuracy    0.838\n",
            "| epoch   3 |   900/ 1782 batches | accuracy    0.835\n",
            "| epoch   3 |  1000/ 1782 batches | accuracy    0.846\n",
            "| epoch   3 |  1100/ 1782 batches | accuracy    0.838\n",
            "| epoch   3 |  1200/ 1782 batches | accuracy    0.834\n",
            "| epoch   3 |  1300/ 1782 batches | accuracy    0.842\n",
            "| epoch   3 |  1400/ 1782 batches | accuracy    0.836\n",
            "| epoch   3 |  1500/ 1782 batches | accuracy    0.836\n",
            "| epoch   3 |  1600/ 1782 batches | accuracy    0.845\n",
            "| epoch   3 |  1700/ 1782 batches | accuracy    0.841\n",
            "-----------------------------------------------------------\n",
            "| end of epoch   3 | time: 19.80s | valid accuracy    0.834 \n",
            "-----------------------------------------------------------\n",
            "| epoch   4 |   100/ 1782 batches | accuracy    0.835\n",
            "| epoch   4 |   200/ 1782 batches | accuracy    0.839\n",
            "| epoch   4 |   300/ 1782 batches | accuracy    0.842\n",
            "| epoch   4 |   400/ 1782 batches | accuracy    0.840\n",
            "| epoch   4 |   500/ 1782 batches | accuracy    0.834\n",
            "| epoch   4 |   600/ 1782 batches | accuracy    0.835\n",
            "| epoch   4 |   700/ 1782 batches | accuracy    0.834\n",
            "| epoch   4 |   800/ 1782 batches | accuracy    0.838\n",
            "| epoch   4 |   900/ 1782 batches | accuracy    0.844\n",
            "| epoch   4 |  1000/ 1782 batches | accuracy    0.844\n",
            "| epoch   4 |  1100/ 1782 batches | accuracy    0.841\n",
            "| epoch   4 |  1200/ 1782 batches | accuracy    0.843\n",
            "| epoch   4 |  1300/ 1782 batches | accuracy    0.842\n",
            "| epoch   4 |  1400/ 1782 batches | accuracy    0.844\n",
            "| epoch   4 |  1500/ 1782 batches | accuracy    0.829\n",
            "| epoch   4 |  1600/ 1782 batches | accuracy    0.840\n",
            "| epoch   4 |  1700/ 1782 batches | accuracy    0.840\n",
            "-----------------------------------------------------------\n",
            "| end of epoch   4 | time: 18.87s | valid accuracy    0.840 \n",
            "-----------------------------------------------------------\n",
            "| epoch   5 |   100/ 1782 batches | accuracy    0.841\n",
            "| epoch   5 |   200/ 1782 batches | accuracy    0.845\n",
            "| epoch   5 |   300/ 1782 batches | accuracy    0.834\n",
            "| epoch   5 |   400/ 1782 batches | accuracy    0.840\n",
            "| epoch   5 |   500/ 1782 batches | accuracy    0.836\n",
            "| epoch   5 |   600/ 1782 batches | accuracy    0.842\n",
            "| epoch   5 |   700/ 1782 batches | accuracy    0.834\n",
            "| epoch   5 |   800/ 1782 batches | accuracy    0.838\n",
            "| epoch   5 |   900/ 1782 batches | accuracy    0.848\n",
            "| epoch   5 |  1000/ 1782 batches | accuracy    0.841\n",
            "| epoch   5 |  1100/ 1782 batches | accuracy    0.831\n",
            "| epoch   5 |  1200/ 1782 batches | accuracy    0.846\n",
            "| epoch   5 |  1300/ 1782 batches | accuracy    0.839\n",
            "| epoch   5 |  1400/ 1782 batches | accuracy    0.836\n",
            "| epoch   5 |  1500/ 1782 batches | accuracy    0.838\n",
            "| epoch   5 |  1600/ 1782 batches | accuracy    0.838\n",
            "| epoch   5 |  1700/ 1782 batches | accuracy    0.837\n",
            "-----------------------------------------------------------\n",
            "| end of epoch   5 | time: 20.23s | valid accuracy    0.839 \n",
            "-----------------------------------------------------------\n",
            "Checking the results of test dataset.\n",
            "test accuracy    0.834\n"
          ]
        }
      ]
    }
  ],
  "metadata": {
    "colab": {
      "provenance": [],
      "gpuType": "T4"
    },
    "kernelspec": {
      "display_name": "Python 3",
      "name": "python3"
    },
    "language_info": {
      "codemirror_mode": {
        "name": "ipython",
        "version": 3
      },
      "file_extension": ".py",
      "mimetype": "text/x-python",
      "name": "python",
      "nbconvert_exporter": "python",
      "pygments_lexer": "ipython3",
      "version": "3.8.15"
    },
    "accelerator": "GPU"
  },
  "nbformat": 4,
  "nbformat_minor": 5
}