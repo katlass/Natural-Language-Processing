{
  "cells": [
    {
      "cell_type": "markdown",
      "source": [
        "## Problem 2"
      ],
      "metadata": {
        "id": "KGA195jIseLg"
      },
      "id": "KGA195jIseLg"
    },
    {
      "cell_type": "code",
      "source": [
        "import math\n",
        "import numpy as np"
      ],
      "metadata": {
        "id": "APgdftC3r5yX"
      },
      "id": "APgdftC3r5yX",
      "execution_count": null,
      "outputs": []
    },
    {
      "cell_type": "code",
      "source": [
        "# defining logical grid\n",
        "as_=np.arange(-10, 10, 0.25)\n",
        "bs_=np.arange(-10, 10, 0.25)\n",
        "cs_=np.arange(-10, 10, 0.25)"
      ],
      "metadata": {
        "id": "8UudeytSr8On"
      },
      "id": "8UudeytSr8On",
      "execution_count": null,
      "outputs": []
    },
    {
      "cell_type": "code",
      "source": [
        "# adding some convenient guesses\n",
        "g=list([(1/(1 + math.exp(-1))),(1/(1 + math.exp(-2))),(1/(1 + math.exp(1))),(1/(1 + math.exp(2))),(1 + math.exp(-1)),(1 + math.exp(-2)),(1 + math.exp(1)),(1 + math.exp(2)), math.exp(-1), math.exp(-2), math.exp(1) ,math.exp(2)])"
      ],
      "metadata": {
        "id": "efcGBU8tr8UK"
      },
      "id": "efcGBU8tr8UK",
      "execution_count": null,
      "outputs": []
    },
    {
      "cell_type": "code",
      "source": [
        "as_=np.append( as_,g)\n",
        "bs_=np.append( bs_,g)\n",
        "cs_=np.append( cs_,g)"
      ],
      "metadata": {
        "id": "tESySw0HsIMX"
      },
      "id": "tESySw0HsIMX",
      "execution_count": null,
      "outputs": []
    },
    {
      "cell_type": "code",
      "source": [
        "# check to see if it can meet the three conditions\n",
        "for a in as_:\n",
        "    for b in bs_:\n",
        "        for c in cs_:\n",
        "            success=0\n",
        "            if round(a*(1/(1 + math.exp(-1)))+b*0.5+c,1)==0.5:\n",
        "             # print('pass1')\n",
        "              success=success +1\n",
        "            if round( a*0.5 +b*(1/(1 + math.exp(1)))+c  ,1) ==-0.5:\n",
        "              # print('pass2')\n",
        "               success=success +1\n",
        "            if round( a*(1/(1 + math.exp(-2))) +b*(1/(1 + math.exp( -1)))+c,1)==-0.5:\n",
        "               #print('pass3')\n",
        "               success=success +1\n",
        "            if success==3:\n",
        "              print(a,b,c)"
      ],
      "metadata": {
        "id": "Hzd84VWWsL3I"
      },
      "id": "Hzd84VWWsL3I",
      "execution_count": null,
      "outputs": []
    },
    {
      "cell_type": "markdown",
      "source": [
        "## Problem 6"
      ],
      "metadata": {
        "id": "T_3L61WLrqx1"
      },
      "id": "T_3L61WLrqx1"
    },
    {
      "cell_type": "code",
      "execution_count": null,
      "id": "5691dd13",
      "metadata": {
        "id": "5691dd13"
      },
      "outputs": [],
      "source": [
        "import torch"
      ]
    },
    {
      "cell_type": "code",
      "execution_count": null,
      "id": "cb61a105",
      "metadata": {
        "id": "cb61a105"
      },
      "outputs": [],
      "source": [
        "x_data = [[0, 0], [0, 1], [1, 0], [1, 1]]\n",
        "y_data = [[0], [1], [1], [0]]\n",
        "x_data = torch.Tensor(x_data)\n",
        "y_data = torch.Tensor(y_data)"
      ]
    },
    {
      "cell_type": "code",
      "execution_count": null,
      "id": "71d598c1",
      "metadata": {
        "id": "71d598c1",
        "outputId": "b3fc4136-8418-4e58-e2e9-dbea9ed391ff"
      },
      "outputs": [
        {
          "name": "stdout",
          "output_type": "stream",
          "text": [
            "loss:  tensor([[20164.]], grad_fn=<PowBackward0>)\n",
            "u1.grad:  tensor([[21016.]])\n",
            "u2.grad:  tensor([[17324.]])\n"
          ]
        }
      ],
      "source": [
        "u1 = torch.tensor([[ 3.0]], requires_grad=True)\n",
        "u2 = torch.tensor([[ 4.0]], requires_grad=True)\n",
        "\n",
        "u3 = u1* u2\n",
        "u4 = u1 + u2\n",
        "u5 = 2* (u3* u4)\n",
        "\n",
        "loss = (u5-u1 -u2 -u3 -u4)**2\n",
        "loss.backward()\n",
        "\n",
        "print(\"loss: \", loss)\n",
        "print(\"u1.grad: \", u1.grad)\n",
        "print(\"u2.grad: \", u2.grad)\n"
      ]
    },
    {
      "cell_type": "code",
      "execution_count": null,
      "id": "a23a5f24",
      "metadata": {
        "id": "a23a5f24",
        "outputId": "81be1a0d-e5a6-4f80-985c-bfabecd3b28c"
      },
      "outputs": [
        {
          "data": {
            "text/plain": [
              "21016"
            ]
          },
          "execution_count": 13,
          "metadata": {},
          "output_type": "execute_result"
        }
      ],
      "source": [
        "# manually calculated gradient, :\n",
        "# there are five paths each to u1, u2.\n",
        "#-2*(u5-u1-u2-u3-u4) - 2*(u5-u1-u2-u3-u4) + (2*(u5-u1-u2-u3-u4)*2*u4*u2) + (2*(u5-u1-u2-u3-u4)*2*u3) + (-2*(u5-u1-u2-u3-u4)*u2)\n",
        "-2*(168 -3-4-12-7)-2*(168 -3-4-12-7) + (2*(168 -3-4-12-7)*2*7*4) + (2*(168 -3-4-12-7)*2*12) + (-2*(168 -3-4-12-7)*4)"
      ]
    }
  ],
  "metadata": {
    "kernelspec": {
      "display_name": "Python 3 (ipykernel)",
      "language": "python",
      "name": "python3"
    },
    "language_info": {
      "codemirror_mode": {
        "name": "ipython",
        "version": 3
      },
      "file_extension": ".py",
      "mimetype": "text/x-python",
      "name": "python",
      "nbconvert_exporter": "python",
      "pygments_lexer": "ipython3",
      "version": "3.9.12"
    },
    "colab": {
      "provenance": []
    }
  },
  "nbformat": 4,
  "nbformat_minor": 5
}